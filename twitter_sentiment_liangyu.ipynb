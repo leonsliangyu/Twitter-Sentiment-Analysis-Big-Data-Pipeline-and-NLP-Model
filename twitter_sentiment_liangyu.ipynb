{
 "cells": [
  {
   "cell_type": "markdown",
   "metadata": {
    "application/vnd.databricks.v1+cell": {
     "cellMetadata": {
      "byteLimit": 2048000,
      "rowLimit": 10000
     },
     "inputWidgets": {},
     "nuid": "8a1ba4a9-0b7e-4f1c-b333-fcbad6728d62",
     "showTitle": false,
     "title": ""
    }
   },
   "source": [
    "##Big Data Project: Twitter Sentiment Prediction\n",
    "liangyuwang"
   ]
  },
  {
   "cell_type": "markdown",
   "metadata": {
    "application/vnd.databricks.v1+cell": {
     "cellMetadata": {
      "byteLimit": 2048000,
      "rowLimit": 10000
     },
     "inputWidgets": {},
     "nuid": "d9df5028-c940-490a-8534-e813a56c8acb",
     "showTitle": false,
     "title": ""
    }
   },
   "source": [
    "## Mounting the buckets"
   ]
  },
  {
   "cell_type": "code",
   "execution_count": null,
   "metadata": {
    "application/vnd.databricks.v1+cell": {
     "cellMetadata": {
      "byteLimit": 2048000,
      "rowLimit": 10000
     },
     "inputWidgets": {},
     "nuid": "287cbf94-1de3-4b47-8f5d-2e231f8f5a0e",
     "showTitle": false,
     "title": ""
    }
   },
   "outputs": [
    {
     "name": "stdout",
     "output_type": "stream",
     "text": [
      "Session Created\n"
     ]
    }
   ],
   "source": [
    "from pyspark.sql import SparkSession\n",
    "spark=SparkSession \\\n",
    "        .builder \\\n",
    "        .appName('Twitter Sentiment Analysis') \\\n",
    "        .getOrCreate()\n",
    "print('Session Created')\n",
    "\n",
    "sc=spark.sparkContext"
   ]
  },
  {
   "cell_type": "code",
   "execution_count": null,
   "metadata": {
    "application/vnd.databricks.v1+cell": {
     "cellMetadata": {
      "byteLimit": 2048000,
      "rowLimit": 10000
     },
     "inputWidgets": {},
     "nuid": "33486509-d9d2-4c6c-8eb9-927cf0a8ea83",
     "showTitle": false,
     "title": ""
    }
   },
   "outputs": [
    {
     "name": "stdout",
     "output_type": "stream",
     "text": [
      "Mounting weclouddata/twitter/\n",
      "/mnt/twitter_sentiment_dataset has been unmounted.\n",
      "The bucket weclouddata/twitter/ was mounted to twitter_sentiment_dataset \n",
      "\n"
     ]
    }
   ],
   "source": [
    "def mount_s3_bucket(access_key, secret_key, bucket_name, mount_folder):\n",
    "  ACCESS_KEY_ID = access_key\n",
    "  SECRET_ACCESS_KEY = secret_key\n",
    "  ENCODED_SECRET_KEY = SECRET_ACCESS_KEY.replace(\"/\", \"%2F\")\n",
    "\n",
    "  print (\"Mounting\", bucket_name)\n",
    "\n",
    "  try:\n",
    "    # Unmount the data in case it was already mounted.\n",
    "    dbutils.fs.unmount(\"/mnt/%s\" % mount_folder)\n",
    "    \n",
    "  except:\n",
    "    # If it fails to unmount it most likely wasn't mounted in the first place\n",
    "    print (\"Directory not unmounted: \", mount_folder)\n",
    "    \n",
    "  finally:\n",
    "    # Lastly, mount our bucket.\n",
    "    dbutils.fs.mount(\"s3a://%s:%s@%s\" % (ACCESS_KEY_ID, ENCODED_SECRET_KEY, bucket_name), \"/mnt/%s\" % mount_folder)\n",
    "    #dbutils.fs.mount(\"s3a://\"+ ACCESS_KEY_ID + \":\" + ENCODED_SECRET_KEY + \"@\" + bucket_name, mount_folder)\n",
    "    print (\"The bucket\", bucket_name, \"was mounted to\", mount_folder, \"\\n\")\n",
    "\n",
    "\n",
    "# Set AWS programmatic access credentials\n",
    "ACCESS_KEY = \" \"\n",
    "SECRET_ACCESS_KEY = \" \"\n",
    "\n",
    "\n",
    "mount_s3_bucket(ACCESS_KEY, SECRET_ACCESS_KEY, \"weclouddata/twitter/\", \"twitter_sentiment_dataset\")\n",
    "\n"
   ]
  },
  {
   "cell_type": "code",
   "execution_count": null,
   "metadata": {
    "application/vnd.databricks.v1+cell": {
     "cellMetadata": {
      "byteLimit": 2048000,
      "rowLimit": 10000
     },
     "inputWidgets": {},
     "nuid": "f7cf6ab5-d9bd-441b-ab03-3a837dde2e53",
     "showTitle": false,
     "title": ""
    }
   },
   "outputs": [
    {
     "data": {
      "text/html": [
       "<style scoped>\n",
       "  .table-result-container {\n",
       "    max-height: 300px;\n",
       "    overflow: auto;\n",
       "  }\n",
       "  table, th, td {\n",
       "    border: 1px solid black;\n",
       "    border-collapse: collapse;\n",
       "  }\n",
       "  th, td {\n",
       "    padding: 5px;\n",
       "  }\n",
       "  th {\n",
       "    text-align: left;\n",
       "  }\n",
       "</style><div class='table-result-container'><table class='table-result'><thead style='background-color: white'><tr><th>path</th><th>name</th><th>size</th><th>modificationTime</th></tr></thead><tbody><tr><td>dbfs:/mnt/twitter_sentiment_dataset/AI/</td><td>AI/</td><td>0</td><td>0</td></tr><tr><td>dbfs:/mnt/twitter_sentiment_dataset/BlackFriday/</td><td>BlackFriday/</td><td>0</td><td>0</td></tr><tr><td>dbfs:/mnt/twitter_sentiment_dataset/CSIS/</td><td>CSIS/</td><td>0</td><td>0</td></tr><tr><td>dbfs:/mnt/twitter_sentiment_dataset/Do Not Use/</td><td>Do Not Use/</td><td>0</td><td>0</td></tr><tr><td>dbfs:/mnt/twitter_sentiment_dataset/ElonMusk/</td><td>ElonMusk/</td><td>0</td><td>0</td></tr><tr><td>dbfs:/mnt/twitter_sentiment_dataset/Inflation/</td><td>Inflation/</td><td>0</td><td>0</td></tr><tr><td>dbfs:/mnt/twitter_sentiment_dataset/Iran/</td><td>Iran/</td><td>0</td><td>0</td></tr><tr><td>dbfs:/mnt/twitter_sentiment_dataset/MTA/</td><td>MTA/</td><td>0</td><td>0</td></tr><tr><td>dbfs:/mnt/twitter_sentiment_dataset/WorldCup/</td><td>WorldCup/</td><td>0</td><td>0</td></tr><tr><td>dbfs:/mnt/twitter_sentiment_dataset/cancer/</td><td>cancer/</td><td>0</td><td>0</td></tr><tr><td>dbfs:/mnt/twitter_sentiment_dataset/thanksgiving/</td><td>thanksgiving/</td><td>0</td><td>0</td></tr><tr><td>dbfs:/mnt/twitter_sentiment_dataset/twitter/</td><td>twitter/</td><td>0</td><td>0</td></tr><tr><td>dbfs:/mnt/twitter_sentiment_dataset/wecan/</td><td>wecan/</td><td>0</td><td>0</td></tr></tbody></table></div>"
      ]
     },
     "metadata": {
      "application/vnd.databricks.v1+output": {
       "addedWidgets": {},
       "aggData": [],
       "aggError": "",
       "aggOverflow": false,
       "aggSchema": [],
       "aggSeriesLimitReached": false,
       "aggType": "",
       "arguments": {},
       "columnCustomDisplayInfos": {},
       "data": [
        [
         "dbfs:/mnt/twitter_sentiment_dataset/AI/",
         "AI/",
         0,
         0
        ],
        [
         "dbfs:/mnt/twitter_sentiment_dataset/BlackFriday/",
         "BlackFriday/",
         0,
         0
        ],
        [
         "dbfs:/mnt/twitter_sentiment_dataset/CSIS/",
         "CSIS/",
         0,
         0
        ],
        [
         "dbfs:/mnt/twitter_sentiment_dataset/Do Not Use/",
         "Do Not Use/",
         0,
         0
        ],
        [
         "dbfs:/mnt/twitter_sentiment_dataset/ElonMusk/",
         "ElonMusk/",
         0,
         0
        ],
        [
         "dbfs:/mnt/twitter_sentiment_dataset/Inflation/",
         "Inflation/",
         0,
         0
        ],
        [
         "dbfs:/mnt/twitter_sentiment_dataset/Iran/",
         "Iran/",
         0,
         0
        ],
        [
         "dbfs:/mnt/twitter_sentiment_dataset/MTA/",
         "MTA/",
         0,
         0
        ],
        [
         "dbfs:/mnt/twitter_sentiment_dataset/WorldCup/",
         "WorldCup/",
         0,
         0
        ],
        [
         "dbfs:/mnt/twitter_sentiment_dataset/cancer/",
         "cancer/",
         0,
         0
        ],
        [
         "dbfs:/mnt/twitter_sentiment_dataset/thanksgiving/",
         "thanksgiving/",
         0,
         0
        ],
        [
         "dbfs:/mnt/twitter_sentiment_dataset/twitter/",
         "twitter/",
         0,
         0
        ],
        [
         "dbfs:/mnt/twitter_sentiment_dataset/wecan/",
         "wecan/",
         0,
         0
        ]
       ],
       "datasetInfos": [],
       "dbfsResultPath": null,
       "isJsonSchema": true,
       "metadata": {
        "isDbfsCommandResult": false
       },
       "overflow": false,
       "plotOptions": {
        "customPlotOptions": {},
        "displayType": "table",
        "pivotAggregation": null,
        "pivotColumns": null,
        "xColumns": null,
        "yColumns": null
       },
       "removedWidgets": [],
       "schema": [
        {
         "metadata": "{}",
         "name": "path",
         "type": "\"string\""
        },
        {
         "metadata": "{}",
         "name": "name",
         "type": "\"string\""
        },
        {
         "metadata": "{}",
         "name": "size",
         "type": "\"long\""
        },
        {
         "metadata": "{}",
         "name": "modificationTime",
         "type": "\"long\""
        }
       ],
       "type": "table"
      }
     },
     "output_type": "display_data"
    }
   ],
   "source": [
    "%fs ls /mnt/twitter_sentiment_dataset/"
   ]
  },
  {
   "cell_type": "markdown",
   "metadata": {
    "application/vnd.databricks.v1+cell": {
     "cellMetadata": {
      "byteLimit": 2048000,
      "rowLimit": 10000
     },
     "inputWidgets": {},
     "nuid": "98392765-eafa-4983-b8d3-d944a810dd98",
     "showTitle": false,
     "title": ""
    }
   },
   "source": [
    "## Creating the Dataframe"
   ]
  },
  {
   "cell_type": "code",
   "execution_count": null,
   "metadata": {
    "application/vnd.databricks.v1+cell": {
     "cellMetadata": {
      "byteLimit": 2048000,
      "rowLimit": 10000
     },
     "inputWidgets": {},
     "nuid": "b38cf11f-bcf7-4c56-b3ff-2a5c2f9853b7",
     "showTitle": false,
     "title": ""
    }
   },
   "outputs": [],
   "source": [
    "# Read CDR data into a DF\n",
    "tweetFile = '/mnt/twitter_sentiment_dataset/AI/*/*/*/*/*'\n",
    "\n",
    "from pyspark.sql.types import StructType, StructField, IntegerType, StringType\n",
    "\n",
    "tweetSchema = StructType([\n",
    "    StructField(\"id\", StringType(), True),\n",
    "    StructField(\"name\", StringType(), True),\n",
    "    StructField(\"username\", StringType(), True),\n",
    "    StructField(\"tweet\", StringType(), True),\n",
    "    StructField(\"followers_count\", IntegerType(), True),\n",
    "    StructField(\"location\", StringType(), True),\n",
    "    StructField(\"geo\", StringType(), True),\n",
    "    StructField(\"created_at\", StringType(), True)]\n",
    ")\n",
    "\n",
    "twt = (spark.read\n",
    "    .option(\"header\", \"false\")\n",
    "    .option(\"delimiter\", \"\\t\")\n",
    "    .schema(tweetSchema)\n",
    "    .csv(tweetFile)\n",
    ")"
   ]
  },
  {
   "cell_type": "code",
   "execution_count": null,
   "metadata": {
    "application/vnd.databricks.v1+cell": {
     "cellMetadata": {
      "byteLimit": 2048000,
      "rowLimit": 10000
     },
     "inputWidgets": {},
     "nuid": "b1a09751-b157-47fb-8405-c65faa61c952",
     "showTitle": false,
     "title": ""
    }
   },
   "outputs": [
    {
     "name": "stdout",
     "output_type": "stream",
     "text": [
      "Out[5]: 10497"
     ]
    }
   ],
   "source": [
    "twt.cache()\n",
    "twt.count()"
   ]
  },
  {
   "cell_type": "code",
   "execution_count": null,
   "metadata": {
    "application/vnd.databricks.v1+cell": {
     "cellMetadata": {
      "byteLimit": 2048000,
      "rowLimit": 10000
     },
     "inputWidgets": {},
     "nuid": "ecf91ed0-6c9c-4b73-8b1a-1f7f6942975c",
     "showTitle": false,
     "title": ""
    }
   },
   "outputs": [
    {
     "name": "stdout",
     "output_type": "stream",
     "text": [
      "Out[6]: 10"
     ]
    }
   ],
   "source": [
    "twt.rdd.getNumPartitions()"
   ]
  },
  {
   "cell_type": "code",
   "execution_count": null,
   "metadata": {
    "application/vnd.databricks.v1+cell": {
     "cellMetadata": {
      "byteLimit": 2048000,
      "rowLimit": 10000
     },
     "inputWidgets": {},
     "nuid": "50aeab6c-76ef-42e8-8c44-810cdf024290",
     "showTitle": false,
     "title": ""
    }
   },
   "outputs": [
    {
     "name": "stdout",
     "output_type": "stream",
     "text": [
      "10497"
     ]
    }
   ],
   "source": [
    "twt=twt.coalesce(10)\n",
    "display(twt.count())"
   ]
  },
  {
   "cell_type": "code",
   "execution_count": null,
   "metadata": {
    "application/vnd.databricks.v1+cell": {
     "cellMetadata": {
      "byteLimit": 2048000,
      "rowLimit": 10000
     },
     "inputWidgets": {},
     "nuid": "b6f6d7e3-e6d7-4112-ae7f-beaee2d02d96",
     "showTitle": false,
     "title": ""
    }
   },
   "outputs": [
    {
     "name": "stdout",
     "output_type": "stream",
     "text": [
      "10"
     ]
    }
   ],
   "source": [
    "display(twt.rdd.getNumPartitions())"
   ]
  },
  {
   "cell_type": "code",
   "execution_count": null,
   "metadata": {
    "application/vnd.databricks.v1+cell": {
     "cellMetadata": {
      "byteLimit": 2048000,
      "rowLimit": 10000
     },
     "inputWidgets": {},
     "nuid": "e9e39e77-00a3-456c-85cd-b375c360cae5",
     "showTitle": false,
     "title": ""
    }
   },
   "outputs": [
    {
     "name": "stdout",
     "output_type": "stream",
     "text": [
      "+-------------------+-------------+--------------+--------------------+---------------+--------------------+----+--------------------+\n",
      "|                 id|         name|      username|               tweet|followers_count|            location| geo|          created_at|\n",
      "+-------------------+-------------+--------------+--------------------+---------------+--------------------+----+--------------------+\n",
      "|1601172099045158912| YUNUS HANBAL|   HanbalYunus|@CryptoEmdarks Th...|             21|                None|None|Fri Dec 09 11:09:...|\n",
      "|1601172122730041344|  ASLI HANBAL|    HanbalAsli|@Crypto__Diva #GP...|            152|                None|None|Fri Dec 09 11:09:...|\n",
      "|1601172161372491778| YUNUS HANBAL|   HanbalYunus|@CryptoThro There...|             21|                None|None|Fri Dec 09 11:09:...|\n",
      "|1601172171602419712|  ASLI HANBAL|    HanbalAsli|@belufrancese #GP...|            152|                None|None|Fri Dec 09 11:09:...|\n",
      "|1601172214056767489| YUNUS HANBAL|   HanbalYunus|@cryptojack There...|             21|                None|None|Fri Dec 09 11:09:...|\n",
      "|1601172226631311362|  ASLI HANBAL|    HanbalAsli|@CryptoThro #GPLE...|            152|                None|None|Fri Dec 09 11:09:...|\n",
      "|1601172266460454914|  ASLI HANBAL|    HanbalAsli|@cryptoworld202 #...|            152|                None|None|Fri Dec 09 11:09:...|\n",
      "|1601172313017581568|  ASLI HANBAL|    HanbalAsli|@pascualprincipe ...|            152|                None|None|Fri Dec 09 11:10:...|\n",
      "|1601172334810783744| YUNUS HANBAL|   HanbalYunus|@riccardogems The...|             21|                None|None|Fri Dec 09 11:10:...|\n",
      "|1601172340188254208|Space ☆ Bruce|    spacebruce|The VF-0 Phoenix ...|            952|68000 HEART ON FI...|None|Fri Dec 09 11:10:...|\n",
      "|1601172355136753664| Derek 🇨🇦♿️|  _derekscott_|RT @HumanProgress...|            153|       Vancouver, BC|None|Fri Dec 09 11:10:...|\n",
      "|1601172360370921472| YUNUS HANBAL|   HanbalYunus|@WazirXIndia Ther...|             21|                None|None|Fri Dec 09 11:10:...|\n",
      "|1601172377144266752|  ASLI HANBAL|    HanbalAsli|@Ralvero #GPLEX w...|            152|                None|None|Fri Dec 09 11:10:...|\n",
      "|1601172404025249792| YUNUS HANBAL|   HanbalYunus|@yourcryptodj The...|             21|                None|None|Fri Dec 09 11:10:...|\n",
      "|1601172420538220544|  ASLI HANBAL|    HanbalAsli|@coingecko #GPLEX...|            152|                None|None|Fri Dec 09 11:10:...|\n",
      "|1601172437726818304| YUNUS HANBAL|   HanbalYunus|@WhalesMetaverse ...|             21|                None|None|Fri Dec 09 11:10:...|\n",
      "|1601172439479656448|     K Vashee|       kvashee|@Kevin_Hendzel @C...|           3659|       San Francisco|None|Fri Dec 09 11:10:...|\n",
      "|1601172487227641856| YUNUS HANBAL|   HanbalYunus|@Crypto__Diva The...|             21|                None|None|Fri Dec 09 11:10:...|\n",
      "|1601172502482325504|  ASLI HANBAL|    HanbalAsli|@Crypto__Diva #GP...|            152|                None|None|Fri Dec 09 11:10:...|\n",
      "|1601172519427330049|  Ercan Demir|ercandemir2010|RT @BBCWorld: UK,...|           3003|                None|None|Fri Dec 09 11:10:...|\n",
      "+-------------------+-------------+--------------+--------------------+---------------+--------------------+----+--------------------+\n",
      "only showing top 20 rows\n",
      "\n"
     ]
    }
   ],
   "source": [
    "\n",
    "twt.show(20)"
   ]
  },
  {
   "cell_type": "code",
   "execution_count": null,
   "metadata": {
    "application/vnd.databricks.v1+cell": {
     "cellMetadata": {
      "byteLimit": 2048000,
      "rowLimit": 10000
     },
     "inputWidgets": {},
     "nuid": "5f6d15be-8a7a-4717-82e2-59bb97b28b83",
     "showTitle": false,
     "title": ""
    }
   },
   "outputs": [],
   "source": [
    "\n",
    "display(twt)"
   ]
  },
  {
   "cell_type": "markdown",
   "metadata": {
    "application/vnd.databricks.v1+cell": {
     "cellMetadata": {
      "byteLimit": 2048000,
      "rowLimit": 10000
     },
     "inputWidgets": {},
     "nuid": "cd47d6a2-8d78-4686-b533-cadaa2c1d815",
     "showTitle": false,
     "title": ""
    }
   },
   "source": [
    "## Clean the dataframe and creating sentiment/label column\n"
   ]
  },
  {
   "cell_type": "code",
   "execution_count": null,
   "metadata": {
    "application/vnd.databricks.v1+cell": {
     "cellMetadata": {
      "byteLimit": 2048000,
      "rowLimit": 10000
     },
     "inputWidgets": {},
     "nuid": "837f88f7-bdfb-4839-8fa7-0ffeacbf8fed",
     "showTitle": false,
     "title": ""
    }
   },
   "outputs": [],
   "source": [
    "#tweet text cleaning\n",
    "\n",
    "from pyspark.sql import functions as F\n",
    "from pyspark.sql.functions import col, trim\n",
    "\n",
    "#remove non-alphabet characters, trim epmpty space and urls\n",
    "twt_clean = twt.withColumn('tweet', F.regexp_replace('tweet', r\"http\\S+\", \"\")) \\\n",
    "                     .withColumn('tweet', F.regexp_replace('tweet', r\"[^a-zA-Z]\", \" \")) \\\n",
    "                     .withColumn('tweet', F.regexp_replace('tweet', r\"\\s+\", \" \")) \\\n",
    "                     .withColumn('tweet', F.lower('tweet')) \\\n",
    "                     .withColumn('tweet', F.trim('tweet'))\n",
    "\n",
    "#drop rows with empty tweet\n",
    "twt_clean = twt_clean.filter(trim(col(\"tweet\")) != \"\")\n",
    "\n",
    "display(twt_clean)"
   ]
  },
  {
   "cell_type": "code",
   "execution_count": null,
   "metadata": {
    "application/vnd.databricks.v1+cell": {
     "cellMetadata": {
      "byteLimit": 2048000,
      "rowLimit": 10000
     },
     "inputWidgets": {},
     "nuid": "e4796132-9bc8-400b-b161-77dd086a9660",
     "showTitle": false,
     "title": ""
    }
   },
   "outputs": [
    {
     "name": "stdout",
     "output_type": "stream",
     "text": [
      "Out[12]: 10491"
     ]
    }
   ],
   "source": [
    "twt_clean.count()"
   ]
  },
  {
   "cell_type": "code",
   "execution_count": null,
   "metadata": {
    "application/vnd.databricks.v1+cell": {
     "cellMetadata": {
      "byteLimit": 2048000,
      "rowLimit": 10000
     },
     "inputWidgets": {},
     "nuid": "b6931e15-288b-4acf-9c5e-0b4562fe906e",
     "showTitle": false,
     "title": ""
    }
   },
   "outputs": [
    {
     "name": "stdout",
     "output_type": "stream",
     "text": [
      "Collecting nltk\n",
      "  Using cached nltk-3.8.1-py3-none-any.whl (1.5 MB)\n",
      "Collecting tqdm\n",
      "  Using cached tqdm-4.66.1-py3-none-any.whl (78 kB)\n",
      "Requirement already satisfied: click in /databricks/python3/lib/python3.9/site-packages (from nltk) (8.0.4)\n",
      "Collecting regex>=2021.8.3\n",
      "  Using cached regex-2023.12.25-cp39-cp39-manylinux_2_17_x86_64.manylinux2014_x86_64.whl (773 kB)\n",
      "Requirement already satisfied: joblib in /databricks/python3/lib/python3.9/site-packages (from nltk) (1.1.1)\n",
      "Installing collected packages: tqdm, regex, nltk\n",
      "Successfully installed nltk-3.8.1 regex-2023.12.25 tqdm-4.66.1\n",
      "\u001b[33mWARNING: You are using pip version 21.2.4; however, version 23.3.2 is available.\n",
      "You should consider upgrading via the '/local_disk0/.ephemeral_nfs/envs/pythonEnv-b85b72ca-1db4-4894-9ae0-cde33dd9a8f0/bin/python -m pip install --upgrade pip' command.\u001b[0m\n"
     ]
    },
    {
     "name": "stderr",
     "output_type": "stream",
     "text": [
      "[nltk_data] Downloading package vader_lexicon to /root/nltk_data...\n",
      "[nltk_data]   Package vader_lexicon is already up-to-date!\n"
     ]
    },
    {
     "data": {
      "application/vnd.databricks.v1+bamboolib_hint": "{\"pd.DataFrames\": [], \"version\": \"0.0.1\"}",
      "text/plain": []
     },
     "metadata": {},
     "output_type": "display_data"
    }
   ],
   "source": [
    "#add sentiment labels column using VADER\n",
    "\n",
    "!pip install nltk\n",
    "import nltk\n",
    "nltk.download('vader_lexicon')\n",
    "from nltk.sentiment import SentimentIntensityAnalyzer\n",
    "from pyspark.sql.functions import pandas_udf, PandasUDFType\n",
    "from pyspark.sql.functions import col\n",
    "import pandas as pd\n",
    "\n",
    "sia = SentimentIntensityAnalyzer()\n",
    "\n",
    "@pandas_udf(IntegerType())\n",
    "def analyze_sentiment(column: pd.Series) -> pd.Series:\n",
    "    return column.apply(lambda text: 2 if sia.polarity_scores(text)['compound'] > 0.05 else (0 if sia.polarity_scores(text)['compound'] < -0.05 else 1))\n",
    "\n",
    "twt_labeled = twt_clean.withColumn(\"label\", analyze_sentiment(col('tweet')))"
   ]
  },
  {
   "cell_type": "code",
   "execution_count": null,
   "metadata": {
    "application/vnd.databricks.v1+cell": {
     "cellMetadata": {
      "byteLimit": 2048000,
      "rowLimit": 10000
     },
     "inputWidgets": {},
     "nuid": "d74a46cc-dcba-4262-8588-24930ebfa9a0",
     "showTitle": false,
     "title": ""
    }
   },
   "outputs": [
    {
     "name": "stdout",
     "output_type": "stream",
     "text": [
      "+-------------------+--------------------+---------------+--------------------+---------------+--------------------+----+--------------------+-----+\n",
      "|                 id|                name|       username|               tweet|followers_count|            location| geo|          created_at|label|\n",
      "+-------------------+--------------------+---------------+--------------------+---------------+--------------------+----+--------------------+-----+\n",
      "|1601172099045158912|        YUNUS HANBAL|    HanbalYunus|cryptoemdarks the...|             21|                None|None|Fri Dec 09 11:09:...|    2|\n",
      "|1601172122730041344|         ASLI HANBAL|     HanbalAsli|crypto diva gplex...|            152|                None|None|Fri Dec 09 11:09:...|    1|\n",
      "|1601172161372491778|        YUNUS HANBAL|    HanbalYunus|cryptothro there ...|             21|                None|None|Fri Dec 09 11:09:...|    2|\n",
      "|1601172171602419712|         ASLI HANBAL|     HanbalAsli|belufrancese gple...|            152|                None|None|Fri Dec 09 11:09:...|    1|\n",
      "|1601172214056767489|        YUNUS HANBAL|    HanbalYunus|cryptojack there ...|             21|                None|None|Fri Dec 09 11:09:...|    2|\n",
      "|1601172226631311362|         ASLI HANBAL|     HanbalAsli|cryptothro gplex ...|            152|                None|None|Fri Dec 09 11:09:...|    1|\n",
      "|1601172266460454914|         ASLI HANBAL|     HanbalAsli|cryptoworld gplex...|            152|                None|None|Fri Dec 09 11:09:...|    1|\n",
      "|1601172313017581568|         ASLI HANBAL|     HanbalAsli|pascualprincipe g...|            152|                None|None|Fri Dec 09 11:10:...|    1|\n",
      "|1601172334810783744|        YUNUS HANBAL|    HanbalYunus|riccardogems ther...|             21|                None|None|Fri Dec 09 11:10:...|    2|\n",
      "|1601172340188254208|       Space ☆ Bruce|     spacebruce|the vf phoenix va...|            952|68000 HEART ON FI...|None|Fri Dec 09 11:10:...|    2|\n",
      "|1601172355136753664|        Derek 🇨🇦♿️|   _derekscott_|rt humanprogress ...|            153|       Vancouver, BC|None|Fri Dec 09 11:10:...|    2|\n",
      "|1601172360370921472|        YUNUS HANBAL|    HanbalYunus|wazirxindia there...|             21|                None|None|Fri Dec 09 11:10:...|    2|\n",
      "|1601172377144266752|         ASLI HANBAL|     HanbalAsli|ralvero gplex wit...|            152|                None|None|Fri Dec 09 11:10:...|    1|\n",
      "|1601172404025249792|        YUNUS HANBAL|    HanbalYunus|yourcryptodj ther...|             21|                None|None|Fri Dec 09 11:10:...|    2|\n",
      "|1601172420538220544|         ASLI HANBAL|     HanbalAsli|coingecko gplex w...|            152|                None|None|Fri Dec 09 11:10:...|    1|\n",
      "|1601172437726818304|        YUNUS HANBAL|    HanbalYunus|whalesmetaverse t...|             21|                None|None|Fri Dec 09 11:10:...|    2|\n",
      "|1601172439479656448|            K Vashee|        kvashee|kevin hendzel chr...|           3659|       San Francisco|None|Fri Dec 09 11:10:...|    1|\n",
      "|1601172487227641856|        YUNUS HANBAL|    HanbalYunus|crypto diva there...|             21|                None|None|Fri Dec 09 11:10:...|    2|\n",
      "|1601172502482325504|         ASLI HANBAL|     HanbalAsli|crypto diva gplex...|            152|                None|None|Fri Dec 09 11:10:...|    1|\n",
      "|1601172519427330049|         Ercan Demir| ercandemir2010|rt bbcworld uk it...|           3003|                None|None|Fri Dec 09 11:10:...|    2|\n",
      "|1601172529858560001|        YUNUS HANBAL|    HanbalYunus|belufrancese ther...|             21|                None|None|Fri Dec 09 11:10:...|    2|\n",
      "|1601172546077892609|         ASLI HANBAL|     HanbalAsli|cryptoworld gplex...|            152|                None|None|Fri Dec 09 11:10:...|    1|\n",
      "|1601172556538851328|Malta Digital Inn...|      MDIAmalta|mdia s senior leg...|            398|  Birkirkara, Malta |None|Fri Dec 09 11:11:...|    2|\n",
      "|1601172566227681280|        YUNUS HANBAL|    HanbalYunus|cryptothro there ...|             21|                None|None|Fri Dec 09 11:11:...|    2|\n",
      "|1601172598309519362|        Özgün Gürbüz|      ozgungrbz|rt hanbalasli cry...|             84|                None|None|Fri Dec 09 11:11:...|    2|\n",
      "|1601172598951665664|         ASLI HANBAL|     HanbalAsli|sofizamolo gplex ...|            152|                None|None|Fri Dec 09 11:11:...|    1|\n",
      "|1601172600922656768|        YUNUS HANBAL|    HanbalYunus|cryptoworld there...|             21|                None|None|Fri Dec 09 11:11:...|    2|\n",
      "|1601172606677577728|Stockexamen | Mon...|    stockexamen|top artificial in...|            814|  Worldwide Coverage|None|Fri Dec 09 11:11:...|    2|\n",
      "|1601172638986305536|           Ratnamala|Ratnama32158316|rt ishafoundation...|              8|                None|None|Fri Dec 09 11:11:...|    2|\n",
      "|1601172652248698880|        Özgün Gürbüz|      ozgungrbz|rt hanbalasli ral...|             84|                None|None|Fri Dec 09 11:11:...|    2|\n",
      "+-------------------+--------------------+---------------+--------------------+---------------+--------------------+----+--------------------+-----+\n",
      "only showing top 30 rows\n",
      "\n"
     ]
    }
   ],
   "source": [
    "twt_labeled.show(30)"
   ]
  },
  {
   "cell_type": "markdown",
   "metadata": {
    "application/vnd.databricks.v1+cell": {
     "cellMetadata": {
      "byteLimit": 2048000,
      "rowLimit": 10000
     },
     "inputWidgets": {},
     "nuid": "5cbfdd99-a4bb-4c2d-8ad3-de24ab0601a9",
     "showTitle": false,
     "title": ""
    }
   },
   "source": [
    "## Exploratory Data Analysis"
   ]
  },
  {
   "cell_type": "code",
   "execution_count": null,
   "metadata": {
    "application/vnd.databricks.v1+cell": {
     "cellMetadata": {
      "byteLimit": 2048000,
      "rowLimit": 10000
     },
     "inputWidgets": {},
     "nuid": "e1e83761-528f-4a80-9c22-ab7896cecb4d",
     "showTitle": false,
     "title": ""
    }
   },
   "outputs": [
    {
     "data": {
      "text/html": [
       "<div>\n",
       "<style scoped>\n",
       "    .dataframe tbody tr th:only-of-type {\n",
       "        vertical-align: middle;\n",
       "    }\n",
       "\n",
       "    .dataframe tbody tr th {\n",
       "        vertical-align: top;\n",
       "    }\n",
       "\n",
       "    .dataframe thead th {\n",
       "        text-align: right;\n",
       "    }\n",
       "</style>\n",
       "<table border=\"1\" class=\"dataframe\">\n",
       "  <thead>\n",
       "    <tr style=\"text-align: right;\">\n",
       "      <th></th>\n",
       "      <th>summary</th>\n",
       "      <th>id</th>\n",
       "      <th>name</th>\n",
       "      <th>username</th>\n",
       "      <th>tweet</th>\n",
       "      <th>followers_count</th>\n",
       "      <th>location</th>\n",
       "      <th>geo</th>\n",
       "      <th>created_at</th>\n",
       "      <th>label</th>\n",
       "    </tr>\n",
       "  </thead>\n",
       "  <tbody>\n",
       "    <tr>\n",
       "      <th>0</th>\n",
       "      <td>count</td>\n",
       "      <td>10491</td>\n",
       "      <td>10491</td>\n",
       "      <td>10491</td>\n",
       "      <td>10491</td>\n",
       "      <td>10462</td>\n",
       "      <td>10462</td>\n",
       "      <td>10457</td>\n",
       "      <td>10457</td>\n",
       "      <td>10491</td>\n",
       "    </tr>\n",
       "    <tr>\n",
       "      <th>1</th>\n",
       "      <td>mean</td>\n",
       "      <td>1.60110676453357568E18</td>\n",
       "      <td>30871.0</td>\n",
       "      <td>2.00006535E7</td>\n",
       "      <td>None</td>\n",
       "      <td>19069.50420569681</td>\n",
       "      <td>1.5948963317385805E27</td>\n",
       "      <td>None</td>\n",
       "      <td>None</td>\n",
       "      <td>1.6218663616433133</td>\n",
       "    </tr>\n",
       "    <tr>\n",
       "      <th>2</th>\n",
       "      <td>stddev</td>\n",
       "      <td>1.1148630341787806E14</td>\n",
       "      <td>61723.33420460477</td>\n",
       "      <td>2.828476692931551E7</td>\n",
       "      <td>None</td>\n",
       "      <td>542408.9315508209</td>\n",
       "      <td>3.784185097300114E27</td>\n",
       "      <td>None</td>\n",
       "      <td>None</td>\n",
       "      <td>0.6851929690440218</td>\n",
       "    </tr>\n",
       "    <tr>\n",
       "      <th>3</th>\n",
       "      <td>min</td>\n",
       "      <td>1600919229729067008</td>\n",
       "      <td>! .🌟| 2🅿🅰🅲🅺 🌟 | The RoyaLand</td>\n",
       "      <td>01101101UTE</td>\n",
       "      <td>a bigram poem inspired by tdavelife artificial...</td>\n",
       "      <td>0</td>\n",
       "      <td></td>\n",
       "      <td>None</td>\n",
       "      <td>Fri Dec 09 00:00:00 +0000 2022</td>\n",
       "      <td>0</td>\n",
       "    </tr>\n",
       "    <tr>\n",
       "      <th>4</th>\n",
       "      <td>max</td>\n",
       "      <td>1601279556933107713</td>\n",
       "      <td>🫧🌌☃️Platoni🇺🇦🏳️‍🌈#Укртві (217/320) #TWD</td>\n",
       "      <td>zvicpa</td>\n",
       "      <td>zoe jimenez is a second life creator and photo...</td>\n",
       "      <td>39130625</td>\n",
       "      <td>🪐</td>\n",
       "      <td>{'type': 'Point', 'coordinates': [41.8752, -88...</td>\n",
       "      <td>Thu Dec 08 23:59:40 +0000 2022</td>\n",
       "      <td>2</td>\n",
       "    </tr>\n",
       "  </tbody>\n",
       "</table>\n",
       "</div>"
      ]
     },
     "metadata": {
      "application/vnd.databricks.v1+output": {
       "addedWidgets": {},
       "arguments": {},
       "data": "<div>\n<style scoped>\n    .dataframe tbody tr th:only-of-type {\n        vertical-align: middle;\n    }\n\n    .dataframe tbody tr th {\n        vertical-align: top;\n    }\n\n    .dataframe thead th {\n        text-align: right;\n    }\n</style>\n<table border=\"1\" class=\"dataframe\">\n  <thead>\n    <tr style=\"text-align: right;\">\n      <th></th>\n      <th>summary</th>\n      <th>id</th>\n      <th>name</th>\n      <th>username</th>\n      <th>tweet</th>\n      <th>followers_count</th>\n      <th>location</th>\n      <th>geo</th>\n      <th>created_at</th>\n      <th>label</th>\n    </tr>\n  </thead>\n  <tbody>\n    <tr>\n      <th>0</th>\n      <td>count</td>\n      <td>10491</td>\n      <td>10491</td>\n      <td>10491</td>\n      <td>10491</td>\n      <td>10462</td>\n      <td>10462</td>\n      <td>10457</td>\n      <td>10457</td>\n      <td>10491</td>\n    </tr>\n    <tr>\n      <th>1</th>\n      <td>mean</td>\n      <td>1.60110676453357568E18</td>\n      <td>30871.0</td>\n      <td>2.00006535E7</td>\n      <td>None</td>\n      <td>19069.50420569681</td>\n      <td>1.5948963317385805E27</td>\n      <td>None</td>\n      <td>None</td>\n      <td>1.6218663616433133</td>\n    </tr>\n    <tr>\n      <th>2</th>\n      <td>stddev</td>\n      <td>1.1148630341787806E14</td>\n      <td>61723.33420460477</td>\n      <td>2.828476692931551E7</td>\n      <td>None</td>\n      <td>542408.9315508209</td>\n      <td>3.784185097300114E27</td>\n      <td>None</td>\n      <td>None</td>\n      <td>0.6851929690440218</td>\n    </tr>\n    <tr>\n      <th>3</th>\n      <td>min</td>\n      <td>1600919229729067008</td>\n      <td>! .🌟| 2🅿🅰🅲🅺 🌟 | The RoyaLand</td>\n      <td>01101101UTE</td>\n      <td>a bigram poem inspired by tdavelife artificial...</td>\n      <td>0</td>\n      <td></td>\n      <td>None</td>\n      <td>Fri Dec 09 00:00:00 +0000 2022</td>\n      <td>0</td>\n    </tr>\n    <tr>\n      <th>4</th>\n      <td>max</td>\n      <td>1601279556933107713</td>\n      <td>🫧🌌☃️Platoni🇺🇦🏳️‍🌈#Укртві (217/320) #TWD</td>\n      <td>zvicpa</td>\n      <td>zoe jimenez is a second life creator and photo...</td>\n      <td>39130625</td>\n      <td>🪐</td>\n      <td>{'type': 'Point', 'coordinates': [41.8752, -88...</td>\n      <td>Thu Dec 08 23:59:40 +0000 2022</td>\n      <td>2</td>\n    </tr>\n  </tbody>\n</table>\n</div>",
       "datasetInfos": [],
       "metadata": {},
       "removedWidgets": [],
       "textData": null,
       "type": "htmlSandbox"
      }
     },
     "output_type": "display_data"
    }
   ],
   "source": [
    "# Exploratory data analysis\n",
    "\n",
    "twt_labeled.describe().toPandas()"
   ]
  },
  {
   "cell_type": "code",
   "execution_count": null,
   "metadata": {
    "application/vnd.databricks.v1+cell": {
     "cellMetadata": {
      "byteLimit": 2048000,
      "rowLimit": 10000
     },
     "inputWidgets": {},
     "nuid": "1a7ee8c5-a1d4-4979-b3ae-7e4d32a13f7a",
     "showTitle": false,
     "title": ""
    }
   },
   "outputs": [
    {
     "data": {
      "text/html": [
       "<style scoped>\n",
       "  .table-result-container {\n",
       "    max-height: 300px;\n",
       "    overflow: auto;\n",
       "  }\n",
       "  table, th, td {\n",
       "    border: 1px solid black;\n",
       "    border-collapse: collapse;\n",
       "  }\n",
       "  th, td {\n",
       "    padding: 5px;\n",
       "  }\n",
       "  th {\n",
       "    text-align: left;\n",
       "  }\n",
       "</style><div class='table-result-container'><table class='table-result'><thead style='background-color: white'><tr><th>sentiment</th><th>count</th></tr></thead><tbody><tr><td>1</td><td>1509</td></tr><tr><td>2</td><td>7753</td></tr><tr><td>0</td><td>1229</td></tr></tbody></table></div>"
      ]
     },
     "metadata": {
      "application/vnd.databricks.v1+output": {
       "addedWidgets": {},
       "aggData": [],
       "aggError": "",
       "aggOverflow": false,
       "aggSchema": [],
       "aggSeriesLimitReached": false,
       "aggType": "",
       "arguments": {},
       "columnCustomDisplayInfos": {},
       "data": [
        [
         1,
         1509
        ],
        [
         2,
         7753
        ],
        [
         0,
         1229
        ]
       ],
       "datasetInfos": [],
       "dbfsResultPath": null,
       "isJsonSchema": true,
       "metadata": {},
       "overflow": false,
       "plotOptions": {
        "customPlotOptions": {},
        "displayType": "table",
        "pivotAggregation": null,
        "pivotColumns": null,
        "xColumns": null,
        "yColumns": null
       },
       "removedWidgets": [],
       "schema": [
        {
         "metadata": "{}",
         "name": "sentiment",
         "type": "\"integer\""
        },
        {
         "metadata": "{}",
         "name": "count",
         "type": "\"long\""
        }
       ],
       "type": "table"
      }
     },
     "output_type": "display_data"
    }
   ],
   "source": [
    "#count the size of each sentiment class\n",
    "\n",
    "val_counts= twt_labeled.groupBy( col(\"label\").alias(\"sentiment\") ).count()\n",
    "\n",
    "display(val_counts)\n"
   ]
  },
  {
   "cell_type": "code",
   "execution_count": null,
   "metadata": {
    "application/vnd.databricks.v1+cell": {
     "cellMetadata": {
      "byteLimit": 2048000,
      "rowLimit": 10000
     },
     "inputWidgets": {},
     "nuid": "4ed2430d-e656-4288-b0f2-bdfbe02ec9d0",
     "showTitle": false,
     "title": ""
    }
   },
   "outputs": [
    {
     "data": {
      "image/png": "[encoded data removed]"
     },
     "metadata": {
      "application/vnd.databricks.v1+output": {
       "addedWidgets": {},
       "arguments": {},
       "data": "data:image/png;base64,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\n",
       "datasetInfos": [],
       "metadata": {},
       "removedWidgets": [],
       "type": "image"
      }
     },
     "output_type": "display_data"
    }
   ],
   "source": [
    "import matplotlib.pyplot as plt\n",
    "\n",
    "cat = ['negative','positive','neutral']\n",
    "y=[v['count'] for v in val_counts.select('count').collect()]\n",
    "plt.bar(cat, y)\n",
    "plt.ylabel('count')\n",
    "plt.xlabel('sentiment')\n",
    "\n",
    "plt.show()"
   ]
  },
  {
   "cell_type": "code",
   "execution_count": null,
   "metadata": {
    "application/vnd.databricks.v1+cell": {
     "cellMetadata": {
      "byteLimit": 2048000,
      "rowLimit": 10000
     },
     "inputWidgets": {},
     "nuid": "ecf0c20f-edfa-4bba-9f6b-230578f64687",
     "showTitle": false,
     "title": ""
    }
   },
   "outputs": [
    {
     "data": {
      "text/html": [
       "<style scoped>\n",
       "  .table-result-container {\n",
       "    max-height: 300px;\n",
       "    overflow: auto;\n",
       "  }\n",
       "  table, th, td {\n",
       "    border: 1px solid black;\n",
       "    border-collapse: collapse;\n",
       "  }\n",
       "  th, td {\n",
       "    padding: 5px;\n",
       "  }\n",
       "  th {\n",
       "    text-align: left;\n",
       "  }\n",
       "</style><div class='table-result-container'><table class='table-result'><thead style='background-color: white'><tr><th>id</th><th>name</th><th>username</th><th>tweet</th><th>followers_count</th><th>location</th><th>geo</th><th>created_at</th><th>label</th></tr></thead><tbody><tr><td>0</td><td>0</td><td>0</td><td>0</td><td>29</td><td>4229</td><td>10488</td><td>34</td><td>0</td></tr></tbody></table></div>"
      ]
     },
     "metadata": {
      "application/vnd.databricks.v1+output": {
       "addedWidgets": {},
       "aggData": [],
       "aggError": "",
       "aggOverflow": false,
       "aggSchema": [],
       "aggSeriesLimitReached": false,
       "aggType": "",
       "arguments": {},
       "columnCustomDisplayInfos": {},
       "data": [
        [
         0,
         0,
         0,
         0,
         29,
         4229,
         10488,
         34,
         0
        ]
       ],
       "datasetInfos": [],
       "dbfsResultPath": null,
       "isJsonSchema": true,
       "metadata": {},
       "overflow": false,
       "plotOptions": {
        "customPlotOptions": {},
        "displayType": "table",
        "pivotAggregation": null,
        "pivotColumns": null,
        "xColumns": null,
        "yColumns": null
       },
       "removedWidgets": [],
       "schema": [
        {
         "metadata": "{}",
         "name": "id",
         "type": "\"long\""
        },
        {
         "metadata": "{}",
         "name": "name",
         "type": "\"long\""
        },
        {
         "metadata": "{}",
         "name": "username",
         "type": "\"long\""
        },
        {
         "metadata": "{}",
         "name": "tweet",
         "type": "\"long\""
        },
        {
         "metadata": "{}",
         "name": "followers_count",
         "type": "\"long\""
        },
        {
         "metadata": "{}",
         "name": "location",
         "type": "\"long\""
        },
        {
         "metadata": "{}",
         "name": "geo",
         "type": "\"long\""
        },
        {
         "metadata": "{}",
         "name": "created_at",
         "type": "\"long\""
        },
        {
         "metadata": "{}",
         "name": "label",
         "type": "\"long\""
        }
       ],
       "type": "table"
      }
     },
     "output_type": "display_data"
    }
   ],
   "source": [
    "#show missing values count for each column\n",
    "\n",
    "from pyspark.sql.functions import count, when, isnan, first\n",
    "\n",
    "display( twt_labeled.select([count(when(isnan(col(c)) | col(c).isNull() | (col(c) == \"None\"), c)).alias(c) for c in twt_labeled.columns]))\n"
   ]
  },
  {
   "cell_type": "code",
   "execution_count": null,
   "metadata": {
    "application/vnd.databricks.v1+cell": {
     "cellMetadata": {
      "byteLimit": 2048000,
      "rowLimit": 10000
     },
     "inputWidgets": {},
     "nuid": "54d2d4a5-7ccb-4220-a2a5-607a0609d732",
     "showTitle": false,
     "title": ""
    }
   },
   "outputs": [
    {
     "name": "stdout",
     "output_type": "stream",
     "text": [
      "+---------------+-----------+\n",
      "|       username|tweet_count|\n",
      "+---------------+-----------+\n",
      "|      ozgungrbz|        227|\n",
      "| JagdipSanghera|         90|\n",
      "|ricardo_ik_ahau|         88|\n",
      "|         ide747|         76|\n",
      "|    AISelection|         66|\n",
      "+---------------+-----------+\n",
      "\n"
     ]
    }
   ],
   "source": [
    "#display the username with the highest number of tweets\n",
    "\n",
    "max_tweets = twt_labeled.groupBy(\"username\").agg(count(\"tweet\").alias(\"tweet_count\")).orderBy(col(\"tweet_count\").desc()).limit(5)\n",
    "max_tweets.show()"
   ]
  },
  {
   "cell_type": "code",
   "execution_count": null,
   "metadata": {
    "application/vnd.databricks.v1+cell": {
     "cellMetadata": {
      "byteLimit": 2048000,
      "rowLimit": 10000
     },
     "inputWidgets": {},
     "nuid": "4537c97b-f5af-4eb7-9d15-3fd447541d96",
     "showTitle": false,
     "title": ""
    }
   },
   "outputs": [
    {
     "name": "stdout",
     "output_type": "stream",
     "text": [
      "+---------------+-------------+\n",
      "|       username|max_followers|\n",
      "+---------------+-------------+\n",
      "|       BBCWorld|     39130625|\n",
      "|            WSJ|     20379149|\n",
      "|         Forbes|     18581160|\n",
      "|      johngreen|      4650512|\n",
      "|     ChinaDaily|      4193132|\n",
      "|  airnewsalerts|      3139439|\n",
      "| engineers_feed|      2606716|\n",
      "|FortuneMagazine|      2357647|\n",
      "|moneycontrolcom|      1354796|\n",
      "|       edutopia|      1237782|\n",
      "+---------------+-------------+\n",
      "\n"
     ]
    }
   ],
   "source": [
    "#display the username with the highest follower counts\n",
    "#we see that most popular accounts are news companies\n",
    "\n",
    "max_followers = (twt_labeled.groupBy(\"username\")\n",
    "                              .max(\"followers_count\")\n",
    "                              .withColumnRenamed(\"max(followers_count)\", \"max_followers\")\n",
    "                              .orderBy(col(\"max_followers\").desc())\n",
    "                              .limit(10))\n",
    "max_followers.show()"
   ]
  },
  {
   "cell_type": "code",
   "execution_count": null,
   "metadata": {
    "application/vnd.databricks.v1+cell": {
     "cellMetadata": {
      "byteLimit": 2048000,
      "rowLimit": 10000
     },
     "inputWidgets": {},
     "nuid": "d9e98ef4-76ac-4aea-b12a-0f664662c35d",
     "showTitle": false,
     "title": ""
    }
   },
   "outputs": [
    {
     "name": "stdout",
     "output_type": "stream",
     "text": [
      "+-----------------+-----+\n",
      "|         location|count|\n",
      "+-----------------+-----+\n",
      "|             None| 4200|\n",
      "|    United States|  128|\n",
      "|   United Kingdom|  118|\n",
      "|San Francisco, CA|  108|\n",
      "|    Benito Juárez|   88|\n",
      "|           Global|   84|\n",
      "|            World|   67|\n",
      "|       London, UK|   64|\n",
      "|            India|   62|\n",
      "|  London, England|   48|\n",
      "+-----------------+-----+\n",
      "\n"
     ]
    }
   ],
   "source": [
    "#show the most common tweet locations\n",
    "\n",
    "top_locations = (twt_labeled.groupBy(\"location\")\n",
    "                  .agg(count(\"location\").alias(\"count\"))\n",
    "                  .orderBy(col(\"count\").desc())\n",
    "                  .limit(10))\n",
    "\n",
    "top_locations.show()"
   ]
  },
  {
   "cell_type": "code",
   "execution_count": null,
   "metadata": {
    "application/vnd.databricks.v1+cell": {
     "cellMetadata": {
      "byteLimit": 2048000,
      "rowLimit": 10000
     },
     "inputWidgets": {},
     "nuid": "88d35826-f00e-49e7-b074-4abf828a16db",
     "showTitle": false,
     "title": ""
    }
   },
   "outputs": [
    {
     "name": "stdout",
     "output_type": "stream",
     "text": [
      "+--------------------+-----+\n",
      "|                 geo|count|\n",
      "+--------------------+-----+\n",
      "|                None|10454|\n",
      "|{'type': 'Point',...|    1|\n",
      "|{'type': 'Point',...|    1|\n",
      "|{'type': 'Point',...|    1|\n",
      "|                null|    0|\n",
      "+--------------------+-----+\n",
      "\n"
     ]
    }
   ],
   "source": [
    "#show the most common geo\n",
    "\n",
    "top_geo = (twt_labeled.groupBy(\"geo\")\n",
    "                  .agg(count(\"geo\").alias(\"count\"))\n",
    "                  .orderBy(col(\"count\").desc())\n",
    "                  .limit(5))\n",
    "\n",
    "top_geo.show()"
   ]
  },
  {
   "cell_type": "code",
   "execution_count": null,
   "metadata": {
    "application/vnd.databricks.v1+cell": {
     "cellMetadata": {
      "byteLimit": 2048000,
      "rowLimit": 10000
     },
     "inputWidgets": {},
     "nuid": "8b0ec96f-d374-4d19-a703-9c9e4de5612a",
     "showTitle": false,
     "title": ""
    }
   },
   "outputs": [
    {
     "name": "stdout",
     "output_type": "stream",
     "text": [
      "+---+-----+\n",
      "|day|count|\n",
      "+---+-----+\n",
      "|Thu| 2680|\n",
      "|Fri| 7777|\n",
      "+---+-----+\n",
      "\n"
     ]
    }
   ],
   "source": [
    "#show tweets by day of the week\n",
    "\n",
    "from pyspark.sql.functions import split\n",
    "\n",
    "days_count=twt_labeled.groupBy( (split(col(\"created_at\"), \" \")[0]).alias(\"day\")).agg(count(\"*\").alias(\"count\"))\n",
    "days_count = days_count.na.drop()\n",
    "days_count.show(10)\n"
   ]
  },
  {
   "cell_type": "code",
   "execution_count": null,
   "metadata": {
    "application/vnd.databricks.v1+cell": {
     "cellMetadata": {
      "byteLimit": 2048000,
      "rowLimit": 10000
     },
     "inputWidgets": {},
     "nuid": "d130e795-c9a9-41d6-ad31-a6b94c6ab69f",
     "showTitle": false,
     "title": ""
    }
   },
   "outputs": [
    {
     "data": {
      "image/png": "[encoded data removed]"
     },
     "metadata": {
      "application/vnd.databricks.v1+output": {
       "addedWidgets": {},
       "arguments": {},
       "data": "data:image/png;base64,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\n",
       "datasetInfos": [],
       "metadata": {},
       "removedWidgets": [],
       "type": "image"
      }
     },
     "output_type": "display_data"
    }
   ],
   "source": [
    "#most tweets are made on friday\n",
    "\n",
    "cat = [v['day'] for v in days_count.select(\"day\").collect()]\n",
    "y= [v['count'] for v in days_count.select(\"count\").collect()]\n",
    "plt.bar(cat, y)\n",
    "plt.ylabel('count')\n",
    "plt.xlabel('day of week')\n",
    "plt.legend(['day of week'], loc='upper left')\n",
    "\n",
    "plt.show()"
   ]
  },
  {
   "cell_type": "code",
   "execution_count": null,
   "metadata": {
    "application/vnd.databricks.v1+cell": {
     "cellMetadata": {
      "byteLimit": 2048000,
      "rowLimit": 10000
     },
     "inputWidgets": {},
     "nuid": "66bb6399-7644-4189-8664-1fef071ed156",
     "showTitle": false,
     "title": ""
    }
   },
   "outputs": [
    {
     "name": "stdout",
     "output_type": "stream",
     "text": [
      "6165 \n",
      "\n",
      "58.76465541893051\n"
     ]
    }
   ],
   "source": [
    "retweets = twt_labeled.filter(col(\"tweet\").startswith(\"rt \"))\n",
    "retweets_count = retweets.count()\n",
    "tweets_count=twt_labeled.count()\n",
    "print(retweets_count, '\\n')\n",
    "print((retweets_count/tweets_count)*100)\n",
    "\n",
    "#59% of tweets are retweets"
   ]
  },
  {
   "cell_type": "markdown",
   "metadata": {
    "application/vnd.databricks.v1+cell": {
     "cellMetadata": {
      "byteLimit": 2048000,
      "rowLimit": 10000
     },
     "inputWidgets": {},
     "nuid": "d39c2b52-0445-48ff-a6c9-51b4ca0eede7",
     "showTitle": false,
     "title": ""
    }
   },
   "source": [
    "## Machine Learning"
   ]
  },
  {
   "cell_type": "code",
   "execution_count": null,
   "metadata": {
    "application/vnd.databricks.v1+cell": {
     "cellMetadata": {
      "byteLimit": 2048000,
      "rowLimit": 10000
     },
     "inputWidgets": {},
     "nuid": "48f0191b-4229-409b-b8d9-8d79a4c90be2",
     "showTitle": false,
     "title": ""
    }
   },
   "outputs": [],
   "source": [
    "from pyspark.ml.feature import Tokenizer, StopWordsRemover, CountVectorizer, HashingTF, IDF, NGram, VectorAssembler, ChiSqSelector\n",
    "from pyspark.ml.classification import LogisticRegression, DecisionTreeClassifier\n",
    "from pyspark.ml import Pipeline\n",
    "from pyspark.ml.evaluation import MulticlassClassificationEvaluator\n",
    "\n",
    "#use 80% data for training, 20% for testing\n",
    "train, test = twt_labeled.randomSplit([0.8, 0.2], seed=888)\n",
    "\n",
    "#create transformers and pipeline\n",
    "tokenizer= Tokenizer(inputCol=\"tweet\", outputCol=\"tokens\")\n",
    "stopword_remover=StopWordsRemover(inputCol=\"tokens\", outputCol=\"filtered\")\n",
    "cv= CountVectorizer(vocabSize=2**16, inputCol=\"filtered\", outputCol=\"cv\")\n",
    "idf= IDF(inputCol=\"cv\", outputCol=\"1gram_idf\", minDocFreq=5)\n",
    "ngram= NGram(n=2, inputCol=\"filtered\", outputCol=\"2gram\")\n",
    "ngram_hashingtf= HashingTF(inputCol=\"2gram\", outputCol=\"2gram_tf\", numFeatures=20000)\n",
    "ngram_idf= IDF(inputCol=\"2gram_tf\", outputCol=\"2gram_idf\", minDocFreq=5)\n",
    "\n",
    "assembler =VectorAssembler(inputCols=[\"1gram_idf\", \"2gram_idf\"], outputCol=\"rawFeatures\")\n",
    "\n",
    "selector= ChiSqSelector(numTopFeatures=2**14, featuresCol=\"rawFeatures\", outputCol=\"features\")\n",
    "\n",
    "lr=LogisticRegression(maxIter=100, family=\"multinomial\")\n",
    "pipeline = Pipeline(stages=[tokenizer, stopword_remover, cv, idf, ngram, ngram_hashingtf, ngram_idf, assembler, selector, lr])\n",
    "\n",
    "\n",
    "#train logistc regresison model\n",
    "pipeline_model=pipeline.fit(train)\n",
    "predictions_lr=pipeline_model.transform(test)\n"
   ]
  },
  {
   "cell_type": "code",
   "execution_count": null,
   "metadata": {
    "application/vnd.databricks.v1+cell": {
     "cellMetadata": {
      "byteLimit": 2048000,
      "rowLimit": 10000
     },
     "inputWidgets": {},
     "nuid": "fcdfdcfb-e819-4f31-b7b2-b0ea36fcdb9c",
     "showTitle": false,
     "title": ""
    }
   },
   "outputs": [
    {
     "name": "stdout",
     "output_type": "stream",
     "text": [
      "Accuracy Score: 0.8977\n",
      "ROC-AUC: 0.8976\n"
     ]
    }
   ],
   "source": [
    "evaluator=MulticlassClassificationEvaluator(labelCol=\"label\", predictionCol=\"prediction\")\n",
    "roc_auc=evaluator.evaluate(predictions_lr)\n",
    "accuracy = evaluator.evaluate(predictions_lr, {evaluator.metricName: \"accuracy\"})\n",
    "\n",
    "print(\"Accuracy Score: {0:.4f}\".format(accuracy))\n",
    "print(\"ROC-AUC: {0:.4f}\".format(roc_auc))"
   ]
  },
  {
   "cell_type": "code",
   "execution_count": null,
   "metadata": {
    "application/vnd.databricks.v1+cell": {
     "cellMetadata": {
      "byteLimit": 2048000,
      "rowLimit": 10000
     },
     "inputWidgets": {},
     "nuid": "a7c8e1bc-1e1f-4fa8-b051-7d2fbf3e860b",
     "showTitle": false,
     "title": ""
    }
   },
   "outputs": [],
   "source": [
    "#train decision tree model\n",
    "dt= DecisionTreeClassifier()\n",
    "pipeline = Pipeline(stages=[tokenizer, stopword_remover, cv, idf, ngram, ngram_hashingtf, ngram_idf, assembler, selector, dt])\n",
    "\n",
    "pipeline_model=pipeline.fit(train)\n",
    "predictions_dt=pipeline_model.transform(test)\n"
   ]
  },
  {
   "cell_type": "code",
   "execution_count": null,
   "metadata": {
    "application/vnd.databricks.v1+cell": {
     "cellMetadata": {
      "byteLimit": 2048000,
      "rowLimit": 10000
     },
     "inputWidgets": {},
     "nuid": "31a3f0cd-44f7-4e7d-aba7-c974d69e95c9",
     "showTitle": false,
     "title": ""
    }
   },
   "outputs": [
    {
     "name": "stdout",
     "output_type": "stream",
     "text": [
      "Accuracy Score: 0.7974\n",
      "ROC-AUC: 0.7426\n"
     ]
    }
   ],
   "source": [
    "evaluator=MulticlassClassificationEvaluator(labelCol=\"label\", predictionCol=\"prediction\")\n",
    "roc_auc=evaluator.evaluate(predictions_dt)\n",
    "accuracy = evaluator.evaluate(predictions_dt, {evaluator.metricName: \"accuracy\"})\n",
    "\n",
    "print(\"Accuracy Score: {0:.4f}\".format(accuracy))\n",
    "print(\"ROC-AUC: {0:.4f}\".format(roc_auc))"
   ]
  },
  {
   "cell_type": "markdown",
   "metadata": {
    "application/vnd.databricks.v1+cell": {
     "cellMetadata": {
      "byteLimit": 2048000,
      "rowLimit": 10000
     },
     "inputWidgets": {},
     "nuid": "3b5da84e-e559-49a0-9334-43ef5e9024fd",
     "showTitle": false,
     "title": ""
    }
   },
   "source": [
    "## Save data to bucket"
   ]
  },
  {
   "cell_type": "code",
   "execution_count": null,
   "metadata": {
    "application/vnd.databricks.v1+cell": {
     "cellMetadata": {
      "byteLimit": 2048000,
      "rowLimit": 10000
     },
     "inputWidgets": {},
     "nuid": "c0c69920-7193-493f-b21d-377cb66339f3",
     "showTitle": false,
     "title": ""
    }
   },
   "outputs": [],
   "source": [
    "#logistic regression is the most accurate model\n",
    "\n",
    "pipeline = Pipeline(stages=[tokenizer, stopword_remover, cv, idf, ngram, ngram_hashingtf, ngram_idf, assembler, selector, lr])\n",
    "pipeline_model=pipeline.fit(twt_labeled)\n",
    "twt_prediction=pipeline_model.transform(twt_clean)"
   ]
  },
  {
   "cell_type": "code",
   "execution_count": null,
   "metadata": {
    "application/vnd.databricks.v1+cell": {
     "cellMetadata": {
      "byteLimit": 2048000,
      "rowLimit": 10000
     },
     "inputWidgets": {},
     "nuid": "d3c6774e-e754-4714-8134-6f6832e2fd45",
     "showTitle": false,
     "title": ""
    }
   },
   "outputs": [
    {
     "name": "stdout",
     "output_type": "stream",
     "text": [
      "root\n",
      " |-- id: string (nullable = true)\n",
      " |-- name: string (nullable = true)\n",
      " |-- username: string (nullable = true)\n",
      " |-- tweet: string (nullable = true)\n",
      " |-- followers_count: integer (nullable = true)\n",
      " |-- location: string (nullable = true)\n",
      " |-- geo: string (nullable = true)\n",
      " |-- created_at: string (nullable = true)\n",
      " |-- tokens: array (nullable = true)\n",
      " |    |-- element: string (containsNull = true)\n",
      " |-- filtered: array (nullable = true)\n",
      " |    |-- element: string (containsNull = true)\n",
      " |-- cv: vector (nullable = true)\n",
      " |-- 1gram_idf: vector (nullable = true)\n",
      " |-- 2gram: array (nullable = true)\n",
      " |    |-- element: string (containsNull = true)\n",
      " |-- 2gram_tf: vector (nullable = true)\n",
      " |-- 2gram_idf: vector (nullable = true)\n",
      " |-- rawFeatures: vector (nullable = true)\n",
      " |-- features: vector (nullable = true)\n",
      " |-- rawPrediction: vector (nullable = true)\n",
      " |-- probability: vector (nullable = true)\n",
      " |-- prediction: double (nullable = false)\n",
      "\n"
     ]
    }
   ],
   "source": [
    "twt_prediction.printSchema()"
   ]
  },
  {
   "cell_type": "code",
   "execution_count": null,
   "metadata": {
    "application/vnd.databricks.v1+cell": {
     "cellMetadata": {
      "byteLimit": 2048000,
      "rowLimit": 10000
     },
     "inputWidgets": {},
     "nuid": "8d93a8f7-2e9b-474a-bd03-3389ccb6131f",
     "showTitle": false,
     "title": ""
    }
   },
   "outputs": [],
   "source": [
    "twt_predictions = twt_prediction.drop('tokens', 'filtered', 'cv', '1gram_idf', '2gram', '2gram_tf', '2gram_idf', 'rawFeatures', 'features', 'rawPrediction', 'probability')"
   ]
  },
  {
   "cell_type": "code",
   "execution_count": null,
   "metadata": {
    "application/vnd.databricks.v1+cell": {
     "cellMetadata": {
      "byteLimit": 2048000,
      "rowLimit": 10000
     },
     "inputWidgets": {},
     "nuid": "ca06b13a-b7e0-45ad-b6ad-01df91dc0620",
     "showTitle": false,
     "title": ""
    }
   },
   "outputs": [],
   "source": [
    "\n",
    "\n",
    "spark.conf.set(\"fs.s3n.awsAccessKeyId\", ACCESS_KEY)\n",
    "spark.conf.set(\"fs.s3n.awsSecretAccessKey\", SECRET_ACCESS_KEY)\n",
    "\n",
    "\n",
    "(twt.write\n",
    "    .parquet('s3://b19-liangyu-awscli/BigDataProject/raw'))\n",
    "\n",
    "(twt_labeled.write\n",
    "    .parquet('s3://b19-liangyu-awscli/BigDataProject/cleaned'))\n",
    "\n",
    "\n",
    "(twt_predictions.write\n",
    "    .parquet('s3://b19-liangyu-awscli/BigDataProject/prediction'))\n"
   ]
  }
 ],
 "metadata": {
  "application/vnd.databricks.v1+notebook": {
   "dashboards": [],
   "language": "python",
   "notebookMetadata": {
    "mostRecentlyExecutedCommandWithImplicitDF": {
     "commandId": 1369712450630095,
     "dataframes": [
      "_sqldf"
     ]
    },
    "pythonIndentUnit": 4
   },
   "notebookName": "Complete Guide for the Spark portion",
   "widgets": {}
  },
  "kernelspec": {
   "display_name": "Python 3 (ipykernel)",
   "language": "python",
   "name": "python3"
  },
  "language_info": {
   "codemirror_mode": {
    "name": "ipython",
    "version": 3
   },
   "file_extension": ".py",
   "mimetype": "text/x-python",
   "name": "python",
   "nbconvert_exporter": "python",
   "pygments_lexer": "ipython3",
   "version": "3.9.18"
  }
 },
 "nbformat": 4,
 "nbformat_minor": 4
}
